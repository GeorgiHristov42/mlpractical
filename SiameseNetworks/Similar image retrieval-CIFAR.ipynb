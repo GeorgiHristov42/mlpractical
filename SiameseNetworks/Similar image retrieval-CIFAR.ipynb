{
 "cells": [
  {
   "cell_type": "code",
   "execution_count": 1,
   "metadata": {},
   "outputs": [
    {
     "name": "stderr",
     "output_type": "stream",
     "text": [
      "/home/iangelinin/miniconda3/envs/mlp/lib/python3.6/importlib/_bootstrap.py:205: RuntimeWarning: compiletime version 3.5 of module 'tensorflow.python.framework.fast_tensor_util' does not match runtime version 3.6\n",
      "  return f(*args, **kwds)\n"
     ]
    }
   ],
   "source": [
    "%matplotlib inline\n",
    "import tensorflow as tf\n",
    "import numpy as np\n",
    "import matplotlib.pyplot as plt\n",
    "import tensorflow.contrib.slim as slim\n",
    "import pandas as pd\n",
    "import os\n",
    "from cifar_dataset import get_cifar\n",
    "from model import *\n",
    "\n",
    "from scipy.spatial.distance import cdist\n",
    "from matplotlib import gridspec"
   ]
  },
  {
   "cell_type": "code",
   "execution_count": 2,
   "metadata": {},
   "outputs": [
    {
     "name": "stdout",
     "output_type": "stream",
     "text": [
      "/home/iangelinin/MLP/mlpractical/SiameseNetworks/CIFAR100/cifar100-train.npz\n"
     ]
    }
   ],
   "source": [
    "cifar = get_cifar()\n",
    "train_images = np.array([im.reshape((3,32,32)).transpose((1,2,0)) for im in cifar.train.images])\n",
    "test_images = np.array([im.reshape((3,32,32)).transpose((1,2,0)) for im in cifar.test.images])\n",
    "len_test = len(cifar.test.images)\n",
    "len_train = len(cifar.train.images)"
   ]
  },
  {
   "cell_type": "code",
   "execution_count": 3,
   "metadata": {
    "collapsed": true
   },
   "outputs": [],
   "source": [
    "#helper function to plot image\n",
    "def show_image(idxs, data):\n",
    "    if type(idxs) != np.ndarray:\n",
    "        idxs = np.array([idxs])\n",
    "    fig = plt.figure()\n",
    "    gs = gridspec.GridSpec(1,len(idxs))\n",
    "    for i in range(len(idxs)):\n",
    "        ax = fig.add_subplot(gs[0,i])\n",
    "        ax.imshow(data[idxs[i],:,:,0], cmap='gray')\n",
    "        ax.axis('off')\n",
    "    plt.show()"
   ]
  },
  {
   "cell_type": "markdown",
   "metadata": {},
   "source": [
    "## Create the siamese net feature extraction model"
   ]
  },
  {
   "cell_type": "code",
   "execution_count": 4,
   "metadata": {
    "collapsed": true
   },
   "outputs": [],
   "source": [
    "img_placeholder = tf.placeholder(tf.float32, [None, 32, 32, 3], name='img')\n",
    "net = mynet(img_placeholder, reuse=False)"
   ]
  },
  {
   "cell_type": "markdown",
   "metadata": {},
   "source": [
    "## Restore from checkpoint and calc the features from all of train data"
   ]
  },
  {
   "cell_type": "code",
   "execution_count": 6,
   "metadata": {},
   "outputs": [
    {
     "name": "stdout",
     "output_type": "stream",
     "text": [
      "INFO:tensorflow:Restoring parameters from /home/iangelinin/MLP/mlpractical/SiameseNetworks/model_cifar/model.ckpt\n"
     ]
    }
   ],
   "source": [
    "saver = tf.train.Saver()\n",
    "with tf.Session() as sess:\n",
    "    sess.run(tf.global_variables_initializer())\n",
    "    ckpt = tf.train.get_checkpoint_state( os.path.join(os.getcwd(), \"model_cifar\"))\n",
    "    saver.restore(sess,  os.path.join(os.getcwd(), \"model_cifar/model.ckpt\"))\n",
    "    \n",
    "    train_feat = sess.run(net, feed_dict={img_placeholder:train_images[:1000]})                "
   ]
  },
  {
   "cell_type": "markdown",
   "metadata": {},
   "source": [
    "## Searching for similar test images from trainset based on siamese feature"
   ]
  },
  {
   "cell_type": "code",
   "execution_count": 7,
   "metadata": {
    "collapsed": true
   },
   "outputs": [],
   "source": [
    "#generate new random test image\n",
    "idx = np.random.randint(0, len_test)\n",
    "im = test_images[idx]"
   ]
  },
  {
   "cell_type": "code",
   "execution_count": 8,
   "metadata": {},
   "outputs": [
    {
     "data": {
      "image/png": "[encoded data removed]",
      "text/plain": [
       "<matplotlib.figure.Figure at 0x7f0ba47ab828>"
      ]
     },
     "metadata": {},
     "output_type": "display_data"
    },
    {
     "name": "stdout",
     "output_type": "stream",
     "text": [
      "This is image from id: 690\n"
     ]
    }
   ],
   "source": [
    "#show the test image\n",
    "show_image(idx, test_images)\n",
    "print(\"This is image from id:\", idx)"
   ]
  },
  {
   "cell_type": "code",
   "execution_count": 9,
   "metadata": {
    "scrolled": true
   },
   "outputs": [
    {
     "name": "stdout",
     "output_type": "stream",
     "text": [
      "INFO:tensorflow:Restoring parameters from /home/iangelinin/MLP/mlpractical/SiameseNetworks/model_cifar/model.ckpt\n"
     ]
    },
    {
     "data": {
      "image/png": "[encoded data removed]",
      "text/plain": [
       "<matplotlib.figure.Figure at 0x7f0ba1532c18>"
      ]
     },
     "metadata": {},
     "output_type": "display_data"
    },
    {
     "name": "stdout",
     "output_type": "stream",
     "text": [
      "retrieved ids: [549  63 666 622 424 108 749]\n"
     ]
    }
   ],
   "source": [
    "#run the test image through the network to get the test features\n",
    "saver = tf.train.Saver()\n",
    "with tf.Session() as sess:\n",
    "    sess.run(tf.global_variables_initializer())\n",
    "    ckpt = tf.train.get_checkpoint_state( os.path.join(os.getcwd(), \"model_cifar\"))\n",
    "    saver.restore(sess,  os.path.join(os.getcwd(), \"model_cifar/model.ckpt\"))\n",
    "    search_feat = sess.run(net, feed_dict={img_placeholder:[im]})\n",
    "    \n",
    "#calculate the cosine similarity and sort\n",
    "dist = cdist(train_feat, search_feat, 'cosine')\n",
    "rank = np.argsort(dist.ravel())\n",
    "\n",
    "#show the top n similar image from train data\n",
    "n = 7\n",
    "show_image(rank[:n], train_images)\n",
    "print(\"retrieved ids:\", rank[:n])"
   ]
  },
  {
   "cell_type": "code",
   "execution_count": 10,
   "metadata": {},
   "outputs": [
    {
     "data": {
      "text/plain": [
       "73"
      ]
     },
     "execution_count": 10,
     "metadata": {},
     "output_type": "execute_result"
    }
   ],
   "source": [
    "cifar.test.labels[690]"
   ]
  },
  {
   "cell_type": "code",
   "execution_count": 11,
   "metadata": {},
   "outputs": [
    {
     "data": {
      "text/plain": [
       "6"
      ]
     },
     "execution_count": 11,
     "metadata": {},
     "output_type": "execute_result"
    }
   ],
   "source": [
    "cifar.train.labels[63]"
   ]
  },
  {
   "cell_type": "code",
   "execution_count": 12,
   "metadata": {},
   "outputs": [
    {
     "name": "stdout",
     "output_type": "stream",
     "text": [
      "INFO:tensorflow:Restoring parameters from /home/iangelinin/MLP/mlpractical/SiameseNetworks/model_cifar/model.ckpt\n"
     ]
    }
   ],
   "source": [
    "true = 0\n",
    "with tf.Session() as sess:\n",
    "    sess.run(tf.global_variables_initializer())\n",
    "    ckpt = tf.train.get_checkpoint_state( os.path.join(os.getcwd(), \"model_cifar\"))\n",
    "    saver.restore(sess,  os.path.join(os.getcwd(), \"model_cifar/model.ckpt\"))\n",
    "    for i in range(len_test):\n",
    "        im = test_images[i]\n",
    "        search_feat = sess.run(net, feed_dict={img_placeholder:[im]})\n",
    "        dist = cdist(train_feat, search_feat, 'cosine')\n",
    "        rank = np.argsort(dist.ravel())\n",
    "        if cifar.test.labels[i] == cifar.train.labels[rank[0]]:\n",
    "            true += 1\n",
    "    true/len_test\n",
    "                                        "
   ]
  },
  {
   "cell_type": "code",
   "execution_count": 13,
   "metadata": {},
   "outputs": [
    {
     "data": {
      "text/plain": [
       "0.0119"
      ]
     },
     "execution_count": 13,
     "metadata": {},
     "output_type": "execute_result"
    }
   ],
   "source": [
    "true/len_test"
   ]
  }
 ],
 "metadata": {
  "kernelspec": {
   "display_name": "Python 3",
   "language": "python",
   "name": "python3"
  },
  "language_info": {
   "codemirror_mode": {
    "name": "ipython",
    "version": 3
   },
   "file_extension": ".py",
   "mimetype": "text/x-python",
   "name": "python",
   "nbconvert_exporter": "python",
   "pygments_lexer": "ipython3",
   "version": "3.6.2"
  }
 },
 "nbformat": 4,
 "nbformat_minor": 1
}
